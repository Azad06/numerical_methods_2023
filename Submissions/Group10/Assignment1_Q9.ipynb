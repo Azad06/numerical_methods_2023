{
 "cells": [
  {
   "cell_type": "code",
   "execution_count": 16,
   "id": "bba62b9c",
   "metadata": {},
   "outputs": [
    {
     "data": {
      "text/plain": [
       "Coeff1 (generic function with 1 method)"
      ]
     },
     "execution_count": 16,
     "metadata": {},
     "output_type": "execute_result"
    }
   ],
   "source": [
    "#= +Q9. Write a Julia Snippet to generate a table giving co-efficients of the second derivative \n",
    "    expansion in terms of the discretized function elements.\n",
    "=#\n",
    "# Coefficient of Individual Point Formula\n",
    "function Coeff1(r, x0)\n",
    "    #k = 0:r-1\n",
    "    n = 2*r+1\n",
    "    A = zeros(Rational,r,r)\n",
    "    #display(A)\n",
    "    for i in 1:r\n",
    "        for j in 1:r\n",
    "            A[i,j] = (i-x0)^(2*j)/(factorial(2*j))\n",
    "        end\n",
    "    end\n",
    "    #display(A)\n",
    "    B = inv(A)\n",
    "    #display(B)\n",
    "    R = zeros(Rational,r,2*r+1)\n",
    "    #display(R)\n",
    "    for i in 1:r\n",
    "            R[i,r+1] = -2\n",
    "            R[i,r+i+1] = 1\n",
    "            R[i,r-i+1] = 1\n",
    "    end\n",
    "    #display(R)\n",
    "    F = B*R/2\n",
    "    #display(F)\n",
    "    C = zeros(Rational,1,n)\n",
    "    #display(C)\n",
    "    println(\"The coefficient of second order derivative ($n point formula) are\")\n",
    "    println(\"----------------------------------------------------------------------\")\n",
    "    for k in 1:n\n",
    "        C[1,k] = F[1,k]\n",
    "    end\n",
    "    return C\n",
    "end"
   ]
  },
  {
   "cell_type": "code",
   "execution_count": 17,
   "id": "0a28bcb5",
   "metadata": {},
   "outputs": [
    {
     "name": "stdout",
     "output_type": "stream",
     "text": [
      "The coefficient of second order derivative (5 point formula) are\n",
      "----------------------------------------------------------------------\n"
     ]
    },
    {
     "data": {
      "text/plain": [
       "1×5 Matrix{Rational}:\n",
       " -1//12  4//3  -5//2  4//3  -1//12"
      ]
     },
     "execution_count": 17,
     "metadata": {},
     "output_type": "execute_result"
    }
   ],
   "source": [
    "Coeff1(2, 0//1)"
   ]
  },
  {
   "cell_type": "code",
   "execution_count": 18,
   "id": "13074296",
   "metadata": {},
   "outputs": [
    {
     "data": {
      "text/plain": [
       "Coeff2 (generic function with 1 method)"
      ]
     },
     "execution_count": 18,
     "metadata": {},
     "output_type": "execute_result"
    }
   ],
   "source": [
    "# Complete table of 2r+1 point formula\n",
    "using Printf\n",
    "function Coeff2(r, x0)\n",
    "    n = r\n",
    "    println(\"The coefficient of second order derivative (upto $(2*r+1) point formula) are\")\n",
    "    println(\"-----------------------------------------------------------------------------------------------------------\")\n",
    "    print(\"r \", \" k = \")\n",
    "        #print(\" \\e[2K\") # clear whole line\n",
    "        #print(\" \\e[1G\") # move cursor to column 1\n",
    "        for k in 0:r\n",
    "            if (k == 0)\n",
    "                @printf(\"%1d\",k)\n",
    "            else\n",
    "                if (k < r)\n",
    "                    print(\"      \\e[2K\") # clear whole line\n",
    "                    @printf(\"%3d\",k)\n",
    "                    print(\"      \\e[1G\") # move cursor to column 1\n",
    "                    #print(k)\n",
    "                else\n",
    "                    print(\"   \\e[1G\") # move cursor to column 1\n",
    "                    println(\"  \",k)\n",
    "                end\n",
    "            end\n",
    "        end\n",
    "    println(\"-----------------------------------------------------------------------------------------------------------\")\n",
    "    for r in 1:n    \n",
    "        #k = 0:r-1\n",
    "        point = 2*r+1\n",
    "        A = zeros(Rational,r,r)\n",
    "        #display(A)\n",
    "        for i in 1:r\n",
    "            for j in 1:r\n",
    "                A[i,j] = (i-x0)^(2*j)/(factorial(2*j))\n",
    "            end\n",
    "        end\n",
    "        #display(A)\n",
    "        B = inv(A)\n",
    "        #display(B)\n",
    "        R = zeros(Rational,r,2*r+1)\n",
    "        #display(R)\n",
    "        for i in 1:r\n",
    "            R[i,r+1] = -2\n",
    "            R[i,r+i+1] = 1\n",
    "            R[i,r-i+1] = 1\n",
    "        end\n",
    "        #display(R)\n",
    "        F = B*R/2\n",
    "        #display(F)\n",
    "        C = zeros(Rational,1,point)\n",
    "        #display(C)\n",
    "        for k in 1:point\n",
    "            C[1,k] = F[1,k]\n",
    "        end\n",
    "        \n",
    "        print(r)\n",
    "        for k in 0:r\n",
    "            if (k<r)\n",
    "                print(\"   \\e[2K\") # clear whole line\n",
    "                print(C[1,r+1+k])\n",
    "                print(\"    \\e[1G\") # move cursor to column 1\n",
    "            else\n",
    "                print(\"   \\e[1G\") # move cursor to column 1\n",
    "                println(C[1,r+1+k])\n",
    "            end\n",
    "        end\n",
    "    end\n",
    "end"
   ]
  },
  {
   "cell_type": "code",
   "execution_count": 20,
   "id": "e002f1e2",
   "metadata": {},
   "outputs": [
    {
     "name": "stdout",
     "output_type": "stream",
     "text": [
      "The coefficient of second order derivative (upto 15 point formula) are\n",
      "-----------------------------------------------------------------------------------------------------------\n",
      "r  k = 0      \u001b[2K  1      \u001b[1G      \u001b[2K  2      \u001b[1G      \u001b[2K  3      \u001b[1G      \u001b[2K  4      \u001b[1G      \u001b[2K  5      \u001b[1G      \u001b[2K  6      \u001b[1G   \u001b[1G  7\n",
      "-----------------------------------------------------------------------------------------------------------\n",
      "1   \u001b[2K-2//1    \u001b[1G   \u001b[1G1//1\n",
      "2   \u001b[2K-5//2    \u001b[1G   \u001b[2K4//3    \u001b[1G   \u001b[1G-1//12\n",
      "3   \u001b[2K-49//18    \u001b[1G   \u001b[2K3//2    \u001b[1G   \u001b[2K-3//20    \u001b[1G   \u001b[1G1//90\n",
      "4   \u001b[2K-205//72    \u001b[1G   \u001b[2K8//5    \u001b[1G   \u001b[2K-1//5    \u001b[1G   \u001b[2K8//315    \u001b[1G   \u001b[1G-1//560\n",
      "5   \u001b[2K-5269//1800    \u001b[1G   \u001b[2K5//3    \u001b[1G   \u001b[2K-5//21    \u001b[1G   \u001b[2K5//126    \u001b[1G   \u001b[2K-5//1008    \u001b[1G   \u001b[1G1//3150\n",
      "6   \u001b[2K-5369//1800    \u001b[1G   \u001b[2K12//7    \u001b[1G   \u001b[2K-15//56    \u001b[1G   \u001b[2K10//189    \u001b[1G   \u001b[2K-1//112    \u001b[1G   \u001b[2K2//1925    \u001b[1G   \u001b[1G-1//16632\n",
      "7   \u001b[2K-266681//88200    \u001b[1G   \u001b[2K7//4    \u001b[1G   \u001b[2K-7//24    \u001b[1G   \u001b[2K7//108    \u001b[1G   \u001b[2K-7//528    \u001b[1G   \u001b[2K7//3300    \u001b[1G   \u001b[2K-7//30888    \u001b[1G   \u001b[1G1//84084\n"
     ]
    }
   ],
   "source": [
    "Coeff2(7,0//1)"
   ]
  },
  {
   "cell_type": "code",
   "execution_count": null,
   "id": "fa04fdcb",
   "metadata": {},
   "outputs": [],
   "source": []
  }
 ],
 "metadata": {
  "kernelspec": {
   "display_name": "Julia 1.8.5",
   "language": "julia",
   "name": "julia-1.8"
  },
  "language_info": {
   "file_extension": ".jl",
   "mimetype": "application/julia",
   "name": "julia",
   "version": "1.8.5"
  }
 },
 "nbformat": 4,
 "nbformat_minor": 5
}
