{
 "cells": [
  {
   "cell_type": "code",
   "execution_count": 2,
   "metadata": {
    "scrolled": true
   },
   "outputs": [
    {
     "name": "stdout",
     "output_type": "stream",
     "text": [
      "Enter the value of r stdin> 4\n",
      "c (r = 4, k = 0) == > -2.847222\n",
      "c (r = 4, k = 1) == > 1.600000\n",
      "c (r = 4, k = 2) == > -0.200000\n",
      "c (r = 4, k = 3) == > 0.025397\n",
      "c (r = 4, k = 4) == > -0.001786\n"
     ]
    }
   ],
   "source": [
    "using Printf\n",
    "\n",
    "print(\"Enter the value of r \")\n",
    "n = parse(Int,readline())\n",
    "\n",
    "matrix = zeros((n,n))\n",
    "\n",
    "for i in 1:n\n",
    "    for j in 1:n\n",
    "        matrix[i,j] = ((i)^(2*(j)))/(factorial(2*(j)))\n",
    "    end\n",
    "end\n",
    "\n",
    "inverted_matrix = inv(matrix)\n",
    "right_matrix = zeros(Float64, (n,2*n+1))\n",
    "for i in 1:n\n",
    "        right_matrix[i,n+1] = -2\n",
    "        right_matrix[i, (n+i+1)] = 1\n",
    "        right_matrix[i, (n-i+1)] = 1\n",
    "end\n",
    "final_matrix = *(inverted_matrix,right_matrix)/2\n",
    "\n",
    "for k in 0:n\n",
    "    @printf(\"c (r = %d, k = %d) == > %f\\n\",n,k,final_matrix[1,n+k+1])\n",
    "end"
   ]
  }
 ],
 "metadata": {
  "kernelspec": {
   "display_name": "Julia 1.8.5",
   "language": "julia",
   "name": "julia-1.8"
  },
  "language_info": {
   "file_extension": ".jl",
   "mimetype": "application/julia",
   "name": "julia",
   "version": "1.8.5"
  }
 },
 "nbformat": 4,
 "nbformat_minor": 4
}
