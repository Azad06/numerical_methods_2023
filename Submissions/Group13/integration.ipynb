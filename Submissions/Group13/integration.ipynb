{
 "cells": [
  {
   "cell_type": "code",
   "execution_count": 18,
   "id": "52bbf90b",
   "metadata": {
    "scrolled": true
   },
   "outputs": [
    {
     "name": "stdout",
     "output_type": "stream",
     "text": [
      "The definite integral of the chosen function  is = 0.8862269254527578\n"
     ]
    }
   ],
   "source": [
    "#Exercise-2 (Integrating the function defined in #1 over the domain [-10,10] using Simpson's 3/8 Rule)\n",
    "\n",
    "f(x) = (x^2)*exp(-x^2) \n",
    "i = -10.0:0.1:10.0\n",
    "fi = []\n",
    "for j in i\n",
    "    push!(fi,f.(j))\n",
    "end\n",
    "h = 0.1\n",
    "n = length(i)\n",
    "    sum = fi[1]+fi[n]\n",
    "    for k in 2:n-1\n",
    "        if mod(k,3) == 0\n",
    "            sum += 2*fi[k]\n",
    "        else\n",
    "            sum += 3*fi[k]\n",
    "        end\n",
    "    end\n",
    "    integral = (3*h/8)*sum\n",
    "    println(\"The definite integral of the chosen function  is = \", integral)"
   ]
  }
 ],
 "metadata": {
  "kernelspec": {
   "display_name": "Julia 1.8.5",
   "language": "julia",
   "name": "julia-1.8"
  },
  "language_info": {
   "file_extension": ".jl",
   "mimetype": "application/julia",
   "name": "julia",
   "version": "1.8.5"
  }
 },
 "nbformat": 4,
 "nbformat_minor": 5
}
