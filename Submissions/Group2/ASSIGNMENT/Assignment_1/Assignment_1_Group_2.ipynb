{
 "cells": [
  {
   "cell_type": "markdown",
   "id": "c3b9895d",
   "metadata": {},
   "source": [
    "# ASSIGNMENT 1\n",
    "AZAD ALLI, 2021PHS7171;\n",
    "NAJ KASHYAP, 2021PHS7200"
   ]
  },
  {
   "cell_type": "markdown",
   "id": "480da2ef",
   "metadata": {},
   "source": [
    "## PROBLEM 7"
   ]
  },
  {
   "cell_type": "markdown",
   "id": "c992af04",
   "metadata": {},
   "source": [
    "Write a Julia Snippet which includes a user defined function, call it \"initial_data.jl\" to define a function on a domain\n",
    "                                             x ϵ [-10,10]\n",
    "and generates a plot of the same."
   ]
  },
  {
   "cell_type": "code",
   "execution_count": 2,
   "id": "6493ca2f",
   "metadata": {},
   "outputs": [],
   "source": [
    "using PyPlot\n",
    "using SparseArrays: spdiagm"
   ]
  },
  {
   "cell_type": "code",
   "execution_count": 3,
   "id": "a627a719",
   "metadata": {},
   "outputs": [
    {
     "data": {
      "text/plain": [
       "Wavefunction (generic function with 1 method)"
      ]
     },
     "execution_count": 3,
     "metadata": {},
     "output_type": "execute_result"
    }
   ],
   "source": [
    "\n",
    "function Wavefunction(x)\n",
    "    return exp(-x^2)\n",
    "end\n"
   ]
  },
  {
   "cell_type": "code",
   "execution_count": 4,
   "id": "53ec6be9",
   "metadata": {},
   "outputs": [
    {
     "data": {
      "image/png": "[encoded data removed]",
      "text/plain": [
       "Figure(PyObject <Figure size 640x480 with 1 Axes>)"
      ]
     },
     "metadata": {},
     "output_type": "display_data"
    },
    {
     "data": {
      "text/plain": [
       "1-element Vector{PyCall.PyObject}:\n",
       " PyObject <matplotlib.lines.Line2D object at 0x7f9614397520>"
      ]
     },
     "execution_count": 4,
     "metadata": {},
     "output_type": "execute_result"
    }
   ],
   "source": [
    "dx=0.001\n",
    "L=10\n",
    "x = collect(-L:dx:L)\n",
    "n=length(x)\n",
    "Ψ = Wavefunction.(x)\n",
    "plot(x,Ψ)"
   ]
  },
  {
   "cell_type": "markdown",
   "id": "64bbf6d9",
   "metadata": {},
   "source": [
    "# PROBLEM 8"
   ]
  },
  {
   "cell_type": "markdown",
   "id": "2dabff64",
   "metadata": {},
   "source": [
    "Write a Julia Snippet which takes the function defined in the \"initial_data.jl\" and integrates it on the domain x ϵ [-10,10]"
   ]
  },
  {
   "cell_type": "code",
   "execution_count": 5,
   "id": "ef4f5ad9",
   "metadata": {},
   "outputs": [
    {
     "data": {
      "text/plain": [
       "1.772453850905516"
      ]
     },
     "execution_count": 5,
     "metadata": {},
     "output_type": "execute_result"
    }
   ],
   "source": [
    "# Using Rectangular method\n",
    "N = sum(Ψ) * dx"
   ]
  },
  {
   "cell_type": "code",
   "execution_count": 10,
   "id": "41a18cee",
   "metadata": {},
   "outputs": [
    {
     "name": "stdout",
     "output_type": "stream",
     "text": [
      "20001"
     ]
    },
    {
     "data": {
      "text/plain": [
       "1.77245385090551"
      ]
     },
     "execution_count": 10,
     "metadata": {},
     "output_type": "execute_result"
    }
   ],
   "source": [
    "#using the simpson method\n",
    "h=length(x)\n",
    "print(h)\n",
    "N = 0\n",
    "for (i,value) in enumerate(x)\n",
    "    if (value != -10) & (value != 10)\n",
    "        if i%2==0\n",
    "            N = N+4*Wavefunction(value)\n",
    "        else\n",
    "            N = N + 2*Wavefunction(value)\n",
    "        end\n",
    "    end\n",
    "end\n",
    "N = N*(dx/3)"
   ]
  },
  {
   "cell_type": "markdown",
   "id": "d3ecd04f",
   "metadata": {},
   "source": [
    "# PROBLEM 9"
   ]
  },
  {
   "cell_type": "markdown",
   "id": "d16ff8ec",
   "metadata": {},
   "source": [
    "Write a Julia Snippet to generate a table giving co-efficients of the second derivative expansion in terms of the discretized function elements."
   ]
  },
  {
   "cell_type": "code",
   "execution_count": 7,
   "id": "fd7b1c80",
   "metadata": {},
   "outputs": [
    {
     "data": {
      "text/plain": [
       "Coef (generic function with 1 method)"
      ]
     },
     "execution_count": 7,
     "metadata": {},
     "output_type": "execute_result"
    }
   ],
   "source": [
    "# Finding coefficients in derivative expansion\n",
    "function Coef(r)\n",
    "M = zeros(r,r)\n",
    "for i =1:r\n",
    "    for j =1:r\n",
    "        M[i,j] = 2 * (i)^(2*j) / factorial(2*j)\n",
    "    end\n",
    "end  \n",
    "Mi=M^-1;\n",
    "colm=Mi*ones(r)*(-2);\n",
    "ck =Mi[1,:];\n",
    "return cat(colm[1],ck,dims=1) #k=0 first\n",
    "end"
   ]
  },
  {
   "cell_type": "code",
   "execution_count": 8,
   "id": "f9c21cbe",
   "metadata": {},
   "outputs": [
    {
     "name": "stdout",
     "output_type": "stream",
     "text": [
      "[-2.0, 1.0]\n",
      "[-2.5, 1.3333333333333333, -0.08333333333333331]\n",
      "[-2.7222222222222223, 1.5, -0.15000000000000002, 0.011111111111111127]\n",
      "[-2.8472222222222223, 1.6, -0.20000000000000018, 0.02539682539682553, -0.001785714285714321]\n",
      "[-2.9272222222222477, 1.6666666666666876, -0.2380952380952489, 0.039682539682543094, -0.004960317460318053, 0.00031746031746036213]\n",
      "[-2.982777777777761, 1.714285714285701, -0.267857142857137, 0.052910052910051686, -0.008928571428571397, 0.0010389610389610615, -6.01250601250658e-5]\n",
      "[-3.0235941043084646, 1.7500000000000775, -0.2916666666667399, 0.06481481481486642, -0.013257575757600004, 0.002121212121219185, -0.00022662522662637852, 1.1892869035801112e-5]\n"
     ]
    }
   ],
   "source": [
    "# Defining the r till where the table will be generated\n",
    "r = 7\n",
    "\n",
    "# Printing the table\n",
    "for i=1:r\n",
    "    println(Coef(i))\n",
    "end"
   ]
  },
  {
   "cell_type": "code",
   "execution_count": null,
   "id": "fff6fe8d",
   "metadata": {},
   "outputs": [],
   "source": []
  },
  {
   "cell_type": "code",
   "execution_count": null,
   "id": "adb53ea9",
   "metadata": {},
   "outputs": [],
   "source": []
  }
 ],
 "metadata": {
  "kernelspec": {
   "display_name": "Julia 1.8.1",
   "language": "julia",
   "name": "julia-1.8"
  },
  "language_info": {
   "file_extension": ".jl",
   "mimetype": "application/julia",
   "name": "julia",
   "version": "1.8.1"
  }
 },
 "nbformat": 4,
 "nbformat_minor": 5
}
