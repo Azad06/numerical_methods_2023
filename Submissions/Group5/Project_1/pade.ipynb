{
 "cells": [
  {
   "cell_type": "code",
   "execution_count": 12,
   "metadata": {},
   "outputs": [
    {
     "name": "stdout",
     "output_type": "stream",
     "text": [
      "-2.00000+0.00000i \n",
      "-3.00000-1.73205i -3.00000+1.73205i \n",
      "-4.64437+0.00000i -3.67781-3.50876i -3.67781+3.50876i \n",
      "-5.79242-1.73447i -5.79242+1.73447i -4.20758-5.31484i -4.20758+5.31484i \n",
      "-7.29348+0.00000i -6.70391-3.48532i -6.70391+3.48532i -4.64935-7.14205i -4.64935+7.14205i \n",
      "-8.49672-1.73502i -8.49672+1.73502i -7.47142-5.25254i -7.47142+5.25254i -5.03186-8.98535i -5.03186+8.98535i \n",
      "-9.94358+0.00000i -9.51658-3.47857i -9.51658+3.47857i -8.14028-7.03435i -8.14028+7.03435i -5.37135-10.84139i -5.37135+10.84139i \n"
     ]
    }
   ],
   "source": [
    "using Polynomials\n",
    "using Printf\n",
    "\n",
    "mRange=7\n",
    "\n",
    "for m in 1:mRange\n",
    "    c_i =[]\n",
    "    a_i = Vector{Float64}()\n",
    "    b_i = Vector{Float64}()\n",
    "    for i in 0:2*m\n",
    "        push!(c_i, 1/factorial(i))\n",
    "    end\n",
    "\n",
    "    lhMatrix = zeros(Float64, m, m)\n",
    "    for i in 1:m\n",
    "        for j in 1:m\n",
    "            lhMatrix[i, j] = c_i[m+i-j+1]\n",
    "        end\n",
    "    end\n",
    "\n",
    "    rhMatrix = zeros(Float64, m, 1)\n",
    "    for i in 1:m\n",
    "        rhMatrix[i, 1] = -1*c_i[m+i+1]\n",
    "    end\n",
    "\n",
    "    inverse = inv(lhMatrix)\n",
    "    res = inverse*rhMatrix\n",
    "    push!(b_i, 1)\n",
    "    for i in 1:m\n",
    "        push!(b_i, res[i,1])\n",
    "    end \n",
    "\n",
    "    for i in 0:m\n",
    "        sum = 0\n",
    "        for j in 0:i\n",
    "            sum = sum+c_i[j+1]*b_i[i-j+1]\n",
    "        end\n",
    "        push!(a_i, sum)\n",
    "    end\n",
    "    root = roots(Polynomial(a_i))\n",
    "\n",
    "    for i in 1:m\n",
    "        @printf \"%.5f\" real(root[i])\n",
    "        # print(\" \")\n",
    "        if imag(root[i])>=0\n",
    "            print(\"+\")\n",
    "        end\n",
    "        @printf \"%.5f\" imag(root[i])\n",
    "        print(\"i \")\n",
    "    end\n",
    "    print(\"\\n\")\n",
    "    # display((roots(Polynomial(a_i))))\n",
    "end"
   ]
  }
 ],
 "metadata": {
  "kernelspec": {
   "display_name": "Julia 1.8.5",
   "language": "julia",
   "name": "julia-1.8"
  },
  "language_info": {
   "file_extension": ".jl",
   "mimetype": "application/julia",
   "name": "julia",
   "version": "1.8.5"
  },
  "orig_nbformat": 4,
  "vscode": {
   "interpreter": {
    "hash": "beff28679775b3211ca7bf2fbdfb67533ea45a53d47eb8054856481cc6ab21ec"
   }
  }
 },
 "nbformat": 4,
 "nbformat_minor": 2
}
