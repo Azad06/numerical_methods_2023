{
 "cells": [
  {
   "attachments": {},
   "cell_type": "markdown",
   "metadata": {},
   "source": [
    "$$ H \\varphi (x,t)= i \\hbar \\frac {\\partial}{\\partial t} \\varphi (x,t) \\newline\n",
    "\\text{where}~ ~ H = -\\frac{\\hbar^2 }{2m} \\frac {\\partial^2}{\\partial x^2} + V(x) \n",
    "\\newline \n",
    "\\varphi (x,t+\\Delta t) = \\varphi(x,t) e^{-iH\\Delta t/\\hbar}\n",
    "$$"
   ]
  },
  {
   "attachments": {},
   "cell_type": "markdown",
   "metadata": {},
   "source": [
    "Where the time-evolution operator $e^{-iH\\Delta t/\\hbar}$ can be expanded to give a unitary approximation of the operator by setting\n",
    "\n",
    "$$\n",
    "e^{-iH\\Delta t/\\hbar} = \\frac {1 - \\frac 1 2 iH\\Delta t/\\hbar}{1 + \\frac 1 2 iH\\Delta t/\\hbar} + O((\\Delta t)^3)\n",
    "$$\n",
    "with error of order $(\\Delta t)^3$ "
   ]
  },
  {
   "attachments": {},
   "cell_type": "markdown",
   "metadata": {},
   "source": [
    "Further gernalizing the 5 point and 7 point formula to a 2r+1 point formula to get double differentiation as per required to calculate operator H we have ,\n",
    "$$\n",
    "y^{''}(x) = \\frac 1 {h^2} \\Sigma _{k = -r} ^ {k = r} c_k ^{(r)} y(x+kh) + O(h^{2r})\n",
    "$$"
   ]
  },
  {
   "attachments": {},
   "cell_type": "markdown",
   "metadata": {},
   "source": [
    "To obtain these constants we make expansions as : \n",
    "$$\n",
    "y(x+kh) = y(x) + (kh)y'(x) + \\frac 1 {2!} (kh)^2 y''(x) + ... + \\frac 1 {(2r+1)!} y^{2r+1} (x) + O(h^{2r+2})\n",
    "\\newline\n",
    "y(x-kh) = y(x) - (kh)y'(x) + \\frac 1 {2!} (kh)^2 y''(x) + ... + \\frac {(-1)^{2r+1}} {(2r+1)!} y^{2r+1} (x) + O(h^{2r+2})\n",
    " $$"
   ]
  },
  {
   "attachments": {},
   "cell_type": "markdown",
   "metadata": {},
   "source": [
    "Adding both the above equations and making the system as matrix for unknown variable we get as \n",
    "$$\n",
    "AY = Y_r\n",
    "$$"
   ]
  },
  {
   "attachments": {},
   "cell_type": "markdown",
   "metadata": {},
   "source": [
    "$$ \n",
    "\\begin{pmatrix}\n",
    "\\frac {2(h^2)}{2!} & \\frac {2(h^4)}{4!} & \\cdots & \\frac {2(h^{2r})}{2r!} \\\\\n",
    "\\frac {2(2h)^2}{2!} & \\frac {2(2h)^4}{4!} & \\cdots & \\frac {2(2h)^{2r}}{2r!} \\\\\n",
    "\\vdots & \\vdots & \\ddots & \\vdots \\\\\n",
    "\\frac {2(rh)^2}{2!} & \\frac {2(rh)^4}{4!} & \\cdots & \\frac {2(rh)^{2r}}{2r!} \n",
    "\\end{pmatrix} \n",
    "\\cdot\n",
    "\\begin{pmatrix}\n",
    "y^2 (x) & \\\\\n",
    "y^4 (x)                     \\\\\n",
    "\\vdots               \\\\\n",
    "y^{2r} (x)\n",
    "\\end{pmatrix}\n",
    "= \n",
    "\\begin{pmatrix}\n",
    "y(x+h) + y(x-h) -2y(x) \\\\\n",
    "y(x+2h) + y(x-2h) -2y(x) \\\\\n",
    "\\vdots\\\\\n",
    "y(x+rh) + y(x-rh) -2y(x)\n",
    "\\end{pmatrix}\n",
    "$$"
   ]
  },
  {
   "cell_type": "code",
   "execution_count": null,
   "metadata": {},
   "outputs": [],
   "source": [
    "# this is a function \n",
    "\n",
    "function myFunction(x)\n",
    "   sig=0.5\n",
    "   mu=0\n",
    "   return exp(-((x - mu)^2.0) / (2 * ((sig)^ 2.0)))  #Gaussiam\n",
    "   # return cos.(x)              \n",
    "end\n"
   ]
  }
 ],
 "metadata": {
  "kernelspec": {
   "display_name": "Julia 1.4.1",
   "language": "julia",
   "name": "julia-1.4"
  },
  "language_info": {
   "name": "julia"
  },
  "orig_nbformat": 4
 },
 "nbformat": 4,
 "nbformat_minor": 2
}
