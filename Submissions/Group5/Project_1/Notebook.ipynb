{
 "cells": [
  {
   "attachments": {},
   "cell_type": "markdown",
   "metadata": {},
   "source": [
    "The equations used in [paper](https://arxiv.org/abs/physics/0701150) are : "
   ]
  },
  {
   "attachments": {},
   "cell_type": "markdown",
   "metadata": {},
   "source": [
    "$$ H \\varphi (x,t)= i \\hbar \\frac {\\partial}{\\partial t} \\varphi (x,t) \\newline\n",
    "\\text{where}~ ~ H = -\\frac{\\hbar^2 }{2m} \\frac {\\partial^2}{\\partial x^2} + V(x) \n",
    "\\newline \n",
    "\\varphi (x,t+\\Delta t) = \\varphi(x,t) e^{-iH\\Delta t/\\hbar}\n",
    "$$"
   ]
  },
  {
   "attachments": {},
   "cell_type": "markdown",
   "metadata": {},
   "source": [
    "Where the time-evolution operator $e^{-iH\\Delta t/\\hbar}$ can be expanded to give a unitary approximation of the operator by setting\n",
    "\n",
    "$$\n",
    "e^{-iH\\Delta t/\\hbar} = \\frac {1 - \\frac 1 2 iH\\Delta t/\\hbar}{1 + \\frac 1 2 iH\\Delta t/\\hbar} + O((\\Delta t)^3)\n",
    "$$\n",
    "with error of order $(\\Delta t)^3$ "
   ]
  },
  {
   "attachments": {},
   "cell_type": "markdown",
   "metadata": {},
   "source": [
    "Further gernalizing the 5 point and 7 point formula to a 2r+1 point formula to get double differentiation as per required to calculate operator H we have ,\n",
    "$$\n",
    "y^{''}(x) = \\frac 1 {h^2} \\Sigma _{k = -r} ^ {k = r} c_k ^{(r)} y(x+kh) + O(h^{2r})\n",
    "$$"
   ]
  },
  {
   "attachments": {},
   "cell_type": "markdown",
   "metadata": {},
   "source": [
    "To obtain these constants we make expansions as : \n",
    "$$\n",
    "y(x+kh) = y(x) + (kh)y'(x) + \\frac 1 {2!} (kh)^2 y''(x) + ... + \\frac 1 {(2r+1)!} y^{2r+1} (x) + O(h^{2r+2})\n",
    "\\newline\n",
    "y(x-kh) = y(x) - (kh)y'(x) + \\frac 1 {2!} (kh)^2 y''(x) + ... + \\frac {(-1)^{2r+1}} {(2r+1)!} y^{2r+1} (x) + O(h^{2r+2})\n",
    " $$"
   ]
  },
  {
   "attachments": {},
   "cell_type": "markdown",
   "metadata": {},
   "source": [
    "Adding both the above equations and making the system as matrix for unknown variable we get as \n",
    "$$\n",
    "AY = Y_r\n",
    "$$"
   ]
  },
  {
   "attachments": {},
   "cell_type": "markdown",
   "metadata": {},
   "source": [
    "$$ \n",
    "\\begin{pmatrix}\n",
    "\\frac {2(h^2)}{2!} & \\frac {2(h^4)}{4!} & \\cdots & \\frac {2(h^{2r})}{2r!} \\\\\n",
    "\\frac {2(2h)^2}{2!} & \\frac {2(2h)^4}{4!} & \\cdots & \\frac {2(2h)^{2r}}{2r!} \\\\\n",
    "\\vdots & \\vdots & \\ddots & \\vdots \\\\\n",
    "\\frac {2(rh)^2}{2!} & \\frac {2(rh)^4}{4!} & \\cdots & \\frac {2(rh)^{2r}}{2r!} \n",
    "\\end{pmatrix} \n",
    "\\cdot\n",
    "\\begin{pmatrix}\n",
    "y^2 (x) & \\\\\n",
    "y^4 (x)                     \\\\\n",
    "\\vdots               \\\\\n",
    "y^{2r} (x)\n",
    "\\end{pmatrix}\n",
    "= \n",
    "\\begin{pmatrix}\n",
    "y(x+h) + y(x-h) -2y(x) \\\\\n",
    "y(x+2h) + y(x-2h) -2y(x) \\\\\n",
    "\\vdots\\\\\n",
    "y(x+rh) + y(x-rh) -2y(x)\n",
    "\\end{pmatrix}\n",
    "$$"
   ]
  },
  {
   "cell_type": "code",
   "execution_count": null,
   "metadata": {},
   "outputs": [],
   "source": [
    "# this is a function \n",
    "\n",
    "function myFunction(x)\n",
    "   sig=0.5\n",
    "   mu=0\n",
    "   return exp(-((x - mu)^2.0) / (2 * ((sig)^ 2.0)))  #Gaussiam\n",
    "   # return cos.(x)              \n",
    "end"
   ]
  },
  {
   "cell_type": "code",
   "execution_count": 10,
   "metadata": {},
   "outputs": [
    {
     "name": "stdout",
     "output_type": "stream",
     "text": [
      "-2.0000 1.0000\n",
      "-2.5000 1.3333 -0.0833\n",
      "-2.7222 1.5000 -0.1500 0.0111\n",
      "-2.8472 1.6000 -0.2000 0.0254 -0.0018\n",
      "-2.9272 1.6667 -0.2381 0.0397 -0.0050 0.0003\n",
      "-2.9828 1.7143 -0.2679 0.0529 -0.0089 0.0010 -0.0001\n",
      "-3.0236 1.7500 -0.2917 0.0648 -0.0133 0.0021 -0.0002 0.0000\n",
      "-3.0548 1.7778 -0.3111 0.0754 -0.0177 0.0035 -0.0005 0.0001 -0.0000\n",
      "-3.0795 1.8000 -0.3273 0.0848 -0.0220 0.0050 -0.0009 0.0001 -0.0000 0.0000\n",
      "-3.0695 1.7909 -0.3205 0.0807 -0.0199 0.0042 -0.0007 0.0001 -0.0000 -0.0000 0.0000\n"
     ]
    }
   ],
   "source": [
    "# Code to get coffecients as per part II of paper to get differentials \n",
    "using Printf\n",
    "h = 1         #This does not affect the final values\n",
    "Rrange = 10    # the range of r till which coefficients are desired\n",
    "\n",
    "for r in 1:Rrange\n",
    "    local coeffMatrix = zeros(Float64, r, r)\n",
    "    for row in 1:r\n",
    "        for col in 1:r\n",
    "            coeffMatrix[row, col] = 2*((row*h)^(col*2))/factorial(2*col)  #Updating the coefficient matrix for linear system\n",
    "        end\n",
    "    end\n",
    "    global inverse = inv(coeffMatrix)                                      #Inverting the matrix\n",
    "\n",
    "    @printf \"%.4f\" (h^2)*(-2*sum(inverse[1, :]))                          #Print the coeff for k=0 by appropriate comparison\n",
    "    for i in 1:r\n",
    "        print(\" \")                                  \n",
    "        @printf \"%.4f\" inverse[1, i]                                      #Print all other coeff by appropriate comparison\n",
    "    end\n",
    "    print(\"\\n\")\n",
    "end"
   ]
  },
  {
   "cell_type": "code",
   "execution_count": 9,
   "metadata": {},
   "outputs": [
    {
     "name": "stdout",
     "output_type": "stream",
     "text": [
      "[0.0]"
     ]
    }
   ],
   "source": [
    "# Having a potential function to test\n",
    "function V(x)\n",
    "    k = pi / 10\n",
    "    return [1 + cos(k*x)]\n",
    "end"
   ]
  }
 ],
 "metadata": {
  "kernelspec": {
   "display_name": "Julia 1.4.1",
   "language": "julia",
   "name": "julia-1.4"
  },
  "language_info": {
   "file_extension": ".jl",
   "mimetype": "application/julia",
   "name": "julia",
   "version": "1.4.1"
  },
  "orig_nbformat": 4
 },
 "nbformat": 4,
 "nbformat_minor": 2
}
