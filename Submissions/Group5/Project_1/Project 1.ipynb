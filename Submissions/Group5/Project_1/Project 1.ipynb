{
 "cells": [
  {
   "attachments": {},
   "cell_type": "markdown",
   "metadata": {},
   "source": [
    "The equations used in [paper](https://arxiv.org/abs/physics/0701150) are : "
   ]
  },
  {
   "attachments": {},
   "cell_type": "markdown",
   "metadata": {},
   "source": [
    "$$ H \\varphi (x,t)= i \\hbar \\frac {\\partial}{\\partial t} \\varphi (x,t) \\newline\n",
    "\\text{where}~ ~ H = -\\frac{\\hbar^2 }{2m} \\frac {\\partial^2}{\\partial x^2} + V(x) \n",
    "\\newline \n",
    "\\varphi (x,t+\\Delta t) = \\varphi(x,t) e^{-iH\\Delta t/\\hbar}\n",
    "$$"
   ]
  },
  {
   "attachments": {},
   "cell_type": "markdown",
   "metadata": {},
   "source": [
    "Where the time-evolution operator $e^{-iH\\Delta t/\\hbar}$ can be expanded to give a unitary approximation of the operator by setting\n",
    "\n",
    "$$\n",
    "e^{-iH\\Delta t/\\hbar} = \\frac {1 - \\frac 1 2 iH\\Delta t/\\hbar}{1 + \\frac 1 2 iH\\Delta t/\\hbar} + O((\\Delta t)^3)\n",
    "$$\n",
    "with error of order $(\\Delta t)^3$ "
   ]
  },
  {
   "attachments": {},
   "cell_type": "markdown",
   "metadata": {},
   "source": [
    "Further gernalizing the 5 point and 7 point formula to a 2r+1 point formula to get double differentiation as per required to calculate operator H we have ,\n",
    "$$\n",
    "y^{''}(x) = \\frac 1 {h^2} \\Sigma _{k = -r} ^ {k = r} c_k ^{(r)} y(x+kh) + O(h^{2r})\n",
    "$$"
   ]
  },
  {
   "attachments": {},
   "cell_type": "markdown",
   "metadata": {},
   "source": [
    "To obtain these constants we make expansions as : \n",
    "$$\n",
    "y(x+kh) = y(x) + (kh)y'(x) + \\frac 1 {2!} (kh)^2 y''(x) + ... + \\frac 1 {(2r+1)!} y^{2r+1} (x) + O(h^{2r+2})\n",
    "\\newline\n",
    "y(x-kh) = y(x) - (kh)y'(x) + \\frac 1 {2!} (kh)^2 y''(x) + ... + \\frac {(-1)^{2r+1}} {(2r+1)!} y^{2r+1} (x) + O(h^{2r+2})\n",
    " $$"
   ]
  },
  {
   "attachments": {},
   "cell_type": "markdown",
   "metadata": {},
   "source": [
    "Adding both the above equations and making the system as matrix for unknown variable we get as \n",
    "$$\n",
    "AY = Y_r\n",
    "$$"
   ]
  },
  {
   "attachments": {},
   "cell_type": "markdown",
   "metadata": {},
   "source": [
    "$$ \n",
    "\\begin{pmatrix}\n",
    "\\frac {2(h^2)}{2!} & \\frac {2(h^4)}{4!} & \\cdots & \\frac {2(h^{2r})}{2r!} \\\\\n",
    "\\frac {2(2h)^2}{2!} & \\frac {2(2h)^4}{4!} & \\cdots & \\frac {2(2h)^{2r}}{2r!} \\\\\n",
    "\\vdots & \\vdots & \\ddots & \\vdots \\\\\n",
    "\\frac {2(rh)^2}{2!} & \\frac {2(rh)^4}{4!} & \\cdots & \\frac {2(rh)^{2r}}{2r!} \n",
    "\\end{pmatrix} \n",
    "\\cdot\n",
    "\\begin{pmatrix}\n",
    "y^2 (x) & \\\\\n",
    "y^4 (x)                     \\\\\n",
    "\\vdots               \\\\\n",
    "y^{2r} (x)\n",
    "\\end{pmatrix}\n",
    "= \n",
    "\\begin{pmatrix}\n",
    "y(x+h) + y(x-h) -2y(x) \\\\\n",
    "y(x+2h) + y(x-2h) -2y(x) \\\\\n",
    "\\vdots\\\\\n",
    "y(x+rh) + y(x-rh) -2y(x)\n",
    "\\end{pmatrix}\n",
    "$$"
   ]
  },
  {
   "cell_type": "code",
   "execution_count": 20,
   "metadata": {},
   "outputs": [
    {
     "name": "stdout",
     "output_type": "stream",
     "text": [
      "[-2.0, 1.0]\n",
      "[-2.5, 1.3333333333333333, -0.08333333333333331]\n",
      "[-2.7222222222222223, 1.5, -0.15000000000000002, 0.011111111111111127]\n",
      "[-2.8472222222222374, 1.6000000000000119, -0.2000000000000055, 0.02539682539682675, -0.0017857142857144043]\n",
      "[-2.9272222222222464, 1.666666666666686, -0.2380952380952478, 0.039682539682542595, -0.004960317460317942, 0.0003174603174603552]\n"
     ]
    }
   ],
   "source": [
    "# Code to get coffecients as per part II of paper to get differentials \n",
    "function getDerivativeCoeff(r)\n",
    "    h = 1         #This does not affect the final values\n",
    "    coeffMatrix = zeros(Float64, r, r)\n",
    "    for row in 1:r\n",
    "        for col in 1:r\n",
    "            coeffMatrix[row, col] = 2*((row*h)^(col*2))/factorial(2*col)  #Updating the coefficient matrix for linear system\n",
    "        end\n",
    "    end\n",
    "    inverse = inv(coeffMatrix)                                      #Inverting the matrix\n",
    "    ret = Vector{Float64}()\n",
    "    push!(ret,(h^2)*(-2*sum(inverse[1, :])))\n",
    "    for i in 1:r\n",
    "        push!(ret,inverse[1, i])\n",
    "    end \n",
    "    return ret\n",
    "end\n",
    "for r in 1:5\n",
    "    coeff = getDerivativeCoeff(r)\n",
    "    println(coeff)\n",
    "end"
   ]
  },
  {
   "cell_type": "code",
   "execution_count": 22,
   "metadata": {},
   "outputs": [
    {
     "data": {
      "text/plain": [
       "timeEvolutionMatrix (generic function with 1 method)"
      ]
     },
     "metadata": {},
     "output_type": "display_data"
    }
   ],
   "source": [
    "using SparseArrays, Plots, LinearAlgebra\n",
    "function timeEvolutionMatrix(; spatialPotential, r, Δt, Δx, ħ, m, z_s)\n",
    "    ret = 1I\n",
    "    for z in z_s\n",
    "        b = im*ħ*Δt/(2*m*(Δx)^2)\n",
    "        c = getDerivativeCoeff(r)\n",
    "        a = c*b/z\n",
    "        d = [1+a[1]-spatialPotential[i]*(im*Δt/ħ)/z for i in 1:length(spatialPotential)]\n",
    "        I = [i for i in 1:length(spatialPotential)]\n",
    "        J = [i for i in 1:length(spatialPotential)]\n",
    "        V = copy(d)\n",
    "        for i in 1:r\n",
    "            hor = [j for j in 1:(length(spatialPotential)-i)]\n",
    "            ver = [j+i for j in 1:(length(spatialPotential)-i)]\n",
    "            I = [I;hor;ver]\n",
    "            J = [J;ver;hor]\n",
    "            V = [V; [a[i+1] for j in 1:2*(length(spatialPotential)-i)]]\n",
    "        end\n",
    "        A = Matrix(sparse(I, J, V))\n",
    "        ret = ret*inv(A)*conj.(A)\n",
    "    end\n",
    "    return ret\n",
    "end"
   ]
  },
  {
   "cell_type": "code",
   "execution_count": 9,
   "metadata": {},
   "outputs": [
    {
     "name": "stdout",
     "output_type": "stream",
     "text": [
      "[0.0]"
     ]
    }
   ],
   "source": [
    "# Having a potential function to test\n",
    "function V(x)\n",
    "    k = pi / 10\n",
    "    return [1 + cos(k*x)]\n",
    "end"
   ]
  },
  {
   "cell_type": "code",
   "execution_count": 13,
   "metadata": {},
   "outputs": [
    {
     "name": "stdout",
     "output_type": "stream",
     "text": [
      "-2.00000+0.00000i \n",
      "-3.00000-1.73205i -3.00000+1.73205i \n",
      "-4.64437+0.00000i -3.67781-3.50876i -3.67781+3.50876i \n",
      "-5.79242-1.73447i -5.79242+1.73447i -4.20758-5.31484i -4.20758+5.31484i \n",
      "-7.29348+0.00000i -6.70391-3.48532i -6.70391+3.48532i -4.64935-7.14205i -4.64935+7.14205i \n"
     ]
    }
   ],
   "source": [
    "using Polynomials\n",
    "using Printf\n",
    "\n",
    "function getPadeRoots(m)\n",
    "    c_i =[]\n",
    "    a_i = Vector{Float64}()\n",
    "    b_i = Vector{Float64}()\n",
    "    for i in 0:2*m\n",
    "        push!(c_i, 1/factorial(i))\n",
    "    end\n",
    "\n",
    "    lhMatrix = zeros(Float64, m, m)\n",
    "    for i in 1:m\n",
    "        for j in 1:m\n",
    "            lhMatrix[i, j] = c_i[m+i-j+1]\n",
    "        end\n",
    "    end\n",
    "\n",
    "    rhMatrix = zeros(Float64, m, 1)\n",
    "    for i in 1:m\n",
    "        rhMatrix[i, 1] = -1*c_i[m+i+1]\n",
    "    end\n",
    "\n",
    "    inverse = inv(lhMatrix)\n",
    "    res = inverse*rhMatrix\n",
    "    push!(b_i, 1)\n",
    "    for i in 1:m\n",
    "        push!(b_i, res[i,1])\n",
    "    end \n",
    "\n",
    "    for i in 0:m\n",
    "        sum = 0\n",
    "        for j in 0:i\n",
    "            sum = sum+c_i[j+1]*b_i[i-j+1]\n",
    "        end\n",
    "        push!(a_i, sum)\n",
    "    end\n",
    "    root = roots(Polynomial(a_i))\n",
    "    return root\n",
    "end\n",
    "\n",
    "for m in 1:5\n",
    "    root = getPadeRoots(m)\n",
    "    for i in 1:m\n",
    "            @printf \"%.5f\" real(root[i])\n",
    "            # print(\" \")\n",
    "            if imag(root[i])>=0\n",
    "                print(\"+\")\n",
    "            end\n",
    "            @printf \"%.5f\" imag(root[i])\n",
    "            print(\"i \")\n",
    "    end\n",
    "    print(\"\\n\")\n",
    "end"
   ]
  },
  {
   "cell_type": "code",
   "execution_count": null,
   "metadata": {},
   "outputs": [],
   "source": [
    "ħ = 1\n",
    "mass = 1\n",
    "\n",
    "Δt = 0.1\n",
    "Δx = 0.1\n",
    "\n",
    "x_vals = -50:Δx:50\n",
    "t_vals = 0:Δt:50\n",
    "\n",
    "# Initialize and evolve the wavefunction\n",
    "Ψ_vals = (x -> exp(-(x+20)^2/10 - im*5/ħ*x)).(x_vals)\n",
    "Ψ_vals = Ψ_vals / sqrt(sum(Ψ_vals .* conj.(Ψ_vals)))\n",
    "\n",
    "# infinite potential well\n",
    "function potential_well(x)\n",
    "    if abs(x) < 40\n",
    "        return 0\n",
    "    else\n",
    "        return 1E3\n",
    "    end\n",
    "end\n",
    "\n",
    "# potential_vals = (x -> x).(x_vals)\n",
    "potential_vals = (x -> potential_well(x)).(x_vals)\n",
    "Ψ_grid = copy(Ψ_vals)\n",
    "\n",
    "K = timeEvolutionMatrix(spatialPotential=potential_vals,r=3, Δt=Δt, Δx=Δx, m=mass, ħ=ħ)\n",
    "\n",
    "for t_i in 2:length(t_vals)\n",
    "    Ψ_grid = hcat(Ψ_grid, K * Ψ_grid[:,t_i-1])\n",
    "end\n",
    "\n",
    "@gif for t_i in 1:length(t_vals)\n",
    "    plot(x_vals,abs.(Ψ_grid[:,t_i]))\n",
    "    ylims!(0,0.3)\n",
    "end"
   ]
  }
 ],
 "metadata": {
  "kernelspec": {
   "display_name": "Julia 1.8.5",
   "language": "julia",
   "name": "julia-1.8"
  },
  "language_info": {
   "file_extension": ".jl",
   "mimetype": "application/julia",
   "name": "julia",
   "version": "1.8.5"
  },
  "orig_nbformat": 4
 },
 "nbformat": 4,
 "nbformat_minor": 2
}
