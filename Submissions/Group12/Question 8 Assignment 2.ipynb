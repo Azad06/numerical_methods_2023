{
 "cells": [
  {
   "cell_type": "markdown",
   "id": "d5d2d606",
   "metadata": {},
   "source": [
    "# question 8"
   ]
  },
  {
   "cell_type": "code",
   "execution_count": 8,
   "id": "872df1f2",
   "metadata": {},
   "outputs": [
    {
     "name": "stdout",
     "output_type": "stream",
     "text": [
      "Original uncertainty:  0.07740678316575621\n",
      "Bootstrap uncertainty:  0.3716150262225048\n",
      "Jackknife uncertainty:  0.7642746796675757\n"
     ]
    }
   ],
   "source": [
    "import pandas as pd\n",
    "import numpy as np\n",
    "from numpy.linalg import inv\n",
    "from scipy.stats import t\n",
    "\n",
    "def least_square_fit(data):\n",
    "    x = np.array(data['x'])\n",
    "    Y = np.array(data['y'])\n",
    "    sig_y = np.array(data['sigma(y)'])\n",
    "    A = np.column_stack((np.ones(len(Y)), x))\n",
    "    C = np.diag(sig_y ** 2)\n",
    "\n",
    "    # least square fit\n",
    "    X = inv(A.T @ inv(C) @ A) @ (A.T @ inv(C) @ Y)\n",
    "\n",
    "    slope = X[1]\n",
    "    intercept = X[0]\n",
    "    slope_uncertainty = np.sqrt(inv(A.T @ inv(C) @ A)[1, 1])\n",
    "    intercept_uncertainty = np.sqrt(inv(A.T @ inv(C) @ A)[0, 0])\n",
    "\n",
    "    return slope, slope_uncertainty, intercept, intercept_uncertainty\n",
    "\n",
    "data = pd.read_csv(\"C:/Users/lovy1/OneDrive/Desktop/assignment_2_data.csv\")\n",
    "\n",
    "M = 10000\n",
    "N = len(data['x'])\n",
    "\n",
    "## bootstrap uncertainty\n",
    "m_org = least_square_fit(data)[0]\n",
    "m_vals = []\n",
    "\n",
    "for i in range(M):\n",
    "    sample_with_replacement = data.sample(N, replace=True)\n",
    "    m_curr = least_square_fit(sample_with_replacement)[0]\n",
    "    m_vals.append(m_curr)\n",
    "\n",
    "sigma_m_bootstrap = np.sum((np.array(m_vals) - m_org)**2) / M\n",
    "print(\"Original uncertainty: \", least_square_fit(data)[1])\n",
    "print(\"Bootstrap uncertainty: \", sigma_m_bootstrap)\n",
    "\n",
    "## jackknife uncertainty\n",
    "m_vals = []\n",
    "\n",
    "for i in range(N):\n",
    "    sample_without_i = data.drop(i)\n",
    "    m_curr = least_square_fit(sample_without_i)[0]\n",
    "    m_vals.append(m_curr)\n",
    "\n",
    "sigma_m_jackknife = (N - 1) * np.sum((np.array(m_vals) - m_org)**2) / N\n",
    "print(\"Jackknife uncertainty: \", sigma_m_jackknife)\n"
   ]
  },
  {
   "cell_type": "code",
   "execution_count": null,
   "id": "e1a53acd",
   "metadata": {},
   "outputs": [],
   "source": []
  },
  {
   "cell_type": "code",
   "execution_count": null,
   "id": "884cd063",
   "metadata": {},
   "outputs": [],
   "source": []
  }
 ],
 "metadata": {
  "kernelspec": {
   "display_name": "Python 3 (ipykernel)",
   "language": "python",
   "name": "python3"
  },
  "language_info": {
   "codemirror_mode": {
    "name": "ipython",
    "version": 3
   },
   "file_extension": ".py",
   "mimetype": "text/x-python",
   "name": "python",
   "nbconvert_exporter": "python",
   "pygments_lexer": "ipython3",
   "version": "3.9.13"
  }
 },
 "nbformat": 4,
 "nbformat_minor": 5
}
